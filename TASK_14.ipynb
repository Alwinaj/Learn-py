{
  "nbformat": 4,
  "nbformat_minor": 0,
  "metadata": {
    "colab": {
      "name": "TASK 14.ipynb",
      "provenance": [],
      "include_colab_link": true
    },
    "kernelspec": {
      "name": "python3",
      "display_name": "Python 3"
    },
    "language_info": {
      "name": "python"
    }
  },
  "cells": [
    {
      "cell_type": "markdown",
      "metadata": {
        "id": "view-in-github",
        "colab_type": "text"
      },
      "source": [
        "<a href=\"https://colab.research.google.com/github/Alwinaj/Learn-py/blob/main/TASK_14.ipynb\" target=\"_parent\"><img src=\"https://colab.research.google.com/assets/colab-badge.svg\" alt=\"Open In Colab\"/></a>"
      ]
    },
    {
      "cell_type": "markdown",
      "metadata": {
        "id": "pDx7KyZoXYNb"
      },
      "source": [
        "1. Create two arrays, one containing elements [1,2], [3,4] and another containing elements [8,18] Now find the solution for this linear equation."
      ]
    },
    {
      "cell_type": "code",
      "metadata": {
        "id": "1HQu2yB2YMbj",
        "outputId": "acb12203-c4cd-455a-d9e6-23309b0c1f4c",
        "colab": {
          "base_uri": "https://localhost:8080/"
        }
      },
      "source": [
        "#please type your answer below this line.\n",
        "import numpy as np \n",
        "a=np.array([[1,2],[3,4]])\n",
        "print(a)\n",
        "b=np.array ([[8],[18]])\n",
        "print(b)\n",
        "x=np.linalg.solve(a,b)\n",
        "print(x)"
      ],
      "execution_count": 1,
      "outputs": [
        {
          "output_type": "stream",
          "text": [
            "[[1 2]\n",
            " [3 4]]\n",
            "[[ 8]\n",
            " [18]]\n",
            "[[2.]\n",
            " [3.]]\n"
          ],
          "name": "stdout"
        }
      ]
    },
    {
      "cell_type": "markdown",
      "metadata": {
        "id": "RyDr51p8ZxQp"
      },
      "source": [
        "2. Create an array containing elements [2, 3, 4]. Now find the sin,cos,tan values of this array elements."
      ]
    },
    {
      "cell_type": "code",
      "metadata": {
        "id": "iXZByHNOaXbk",
        "outputId": "81f20a1c-12a7-44dd-e2c7-3b314a2f3660",
        "colab": {
          "base_uri": "https://localhost:8080/"
        }
      },
      "source": [
        "#please type your answer below this line.\n",
        "import numpy as np\n",
        "a=np.array([2,3,4])\n",
        "print(a)\n",
        "x=np.sin(a)\n",
        "print(x)\n",
        "y=np.cos(a)\n",
        "print(y)\n",
        "z=np.tan(a)\n",
        "print(z)"
      ],
      "execution_count": 2,
      "outputs": [
        {
          "output_type": "stream",
          "text": [
            "[2 3 4]\n",
            "[ 0.90929743  0.14112001 -0.7568025 ]\n",
            "[-0.41614684 -0.9899925  -0.65364362]\n",
            "[-2.18503986 -0.14254654  1.15782128]\n"
          ],
          "name": "stdout"
        }
      ]
    },
    {
      "cell_type": "markdown",
      "metadata": {
        "id": "Itk2DMc6b60J"
      },
      "source": [
        "3. Given b=[5,6], then find,\n",
        "\n",
        "  a) 2sinb\n",
        "  b) 2cos3b\n",
        "  c) 4tan2b"
      ]
    },
    {
      "cell_type": "code",
      "metadata": {
        "id": "lgxpIaKebw5y",
        "outputId": "db34f33a-26bb-4a6c-8c31-30e76ffbf459",
        "colab": {
          "base_uri": "https://localhost:8080/"
        }
      },
      "source": [
        "#please type your answer below this line.\n",
        "import numpy as np\n",
        "b=np.array([5,6])\n",
        "print(b)\n",
        "a=2*np.sin(b)\n",
        "print(a)\n",
        "c=2*np.cos(3*b)\n",
        "print(c)\n",
        "d=4*np.tan(2*b)\n",
        "print(d)"
      ],
      "execution_count": 3,
      "outputs": [
        {
          "output_type": "stream",
          "text": [
            "[5 6]\n",
            "[-1.91784855 -0.558831  ]\n",
            "[-1.51937583  1.32063342]\n",
            "[ 2.59344331 -2.54343971]\n"
          ],
          "name": "stdout"
        }
      ]
    }
  ]
}