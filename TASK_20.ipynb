{
  "nbformat": 4,
  "nbformat_minor": 0,
  "metadata": {
    "colab": {
      "name": "TASK 20.ipynb",
      "provenance": [],
      "include_colab_link": true
    },
    "kernelspec": {
      "name": "python3",
      "display_name": "Python 3"
    },
    "language_info": {
      "name": "python"
    }
  },
  "cells": [
    {
      "cell_type": "markdown",
      "metadata": {
        "id": "view-in-github",
        "colab_type": "text"
      },
      "source": [
        "<a href=\"https://colab.research.google.com/github/Alwinaj/Learn-py/blob/main/TASK_20.ipynb\" target=\"_parent\"><img src=\"https://colab.research.google.com/assets/colab-badge.svg\" alt=\"Open In Colab\"/></a>"
      ]
    },
    {
      "cell_type": "markdown",
      "metadata": {
        "id": "8LIfdcjDWmC3"
      },
      "source": [
        "1. In the data given below,\n",
        "  - find the boolean mask where value is nan\n",
        "  - remove the row with missing data.\n"
      ]
    },
    {
      "cell_type": "markdown",
      "metadata": {
        "id": "VPCGISRTbYPz"
      },
      "source": [
        ""
      ]
    },
    {
      "cell_type": "code",
      "metadata": {
        "colab": {
          "base_uri": "https://localhost:8080/"
        },
        "id": "VsZQYRqXXHpG",
        "outputId": "b68e7e6b-f103-4e78-db5d-c373e0303dc0"
      },
      "source": [
        "import pandas as pd\n",
        "import numpy as np\n",
        "dates = pd.date_range('20210101',periods=6)\n",
        "df = pd.DataFrame(np.random.randn(6,4), index=dates,columns=list('ABCD'))\n",
        "s1 = pd.Series([1,2,3,4,5,6], index=pd.date_range('20130102', periods=6))\n",
        "df[\"F\"]=s1\n",
        "df1=df.reindex(index=dates[0:4], columns=list(df.columns) + ['E'])\n",
        "df1.loc[dates[0]:dates[1],'E'] = 1\n",
        "df1\n",
        "#please provide your answer below this line\n",
        "print(df1)\n",
        "print(\"\\nboolean mask where value is nan:\\n\",df1.isnull())\n",
        "print(\"\\nRemoving the row with missing data:\\n\",df1.dropna())"
      ],
      "execution_count": 1,
      "outputs": [
        {
          "output_type": "stream",
          "name": "stdout",
          "text": [
            "                   A         B         C         D   F    E\n",
            "2021-01-01 -0.197527 -1.019416 -1.134472  0.082227 NaN  1.0\n",
            "2021-01-02 -0.001674 -1.004264  0.639628 -0.494053 NaN  1.0\n",
            "2021-01-03 -1.103335  0.582906 -0.837565  0.120839 NaN  NaN\n",
            "2021-01-04  0.398169  1.967770  1.032233  0.216382 NaN  NaN\n",
            "\n",
            "boolean mask where value is nan:\n",
            "                 A      B      C      D     F      E\n",
            "2021-01-01  False  False  False  False  True  False\n",
            "2021-01-02  False  False  False  False  True  False\n",
            "2021-01-03  False  False  False  False  True   True\n",
            "2021-01-04  False  False  False  False  True   True\n",
            "\n",
            "Removing the row with missing data:\n",
            " Empty DataFrame\n",
            "Columns: [A, B, C, D, F, E]\n",
            "Index: []\n"
          ]
        }
      ]
    },
    {
      "cell_type": "markdown",
      "metadata": {
        "id": "z1sv0aluZhcd"
      },
      "source": [
        "2. In the data given below,fill the missing data with 20."
      ]
    },
    {
      "cell_type": "code",
      "metadata": {
        "colab": {
          "base_uri": "https://localhost:8080/"
        },
        "id": "x3ZHFCeyZ0j2",
        "outputId": "8dc115b3-8382-4fb7-b5b3-56d59def8f5a"
      },
      "source": [
        "import pandas as pd\n",
        "import numpy as np\n",
        "dates = pd.date_range('20210101',periods=6)\n",
        "df = pd.DataFrame(np.random.randn(6,4), index=dates,columns=list('ABCD'))\n",
        "s1 = pd.Series([1,2,3,4,5,6], index=pd.date_range('20130102', periods=6))\n",
        "df[\"F\"]=s1\n",
        "df1=df.reindex(index=dates[0:4], columns=list(df.columns) + ['E'])\n",
        "df1.loc[dates[0]:dates[1],'E'] = 1\n",
        "df1\n",
        "#please provide your answer below this line\n",
        "print(df1)\n",
        "print(\"\\nFilling the missing data with 20:\\n\",df1.fillna(value = 20))"
      ],
      "execution_count": 2,
      "outputs": [
        {
          "output_type": "stream",
          "name": "stdout",
          "text": [
            "                   A         B         C         D   F    E\n",
            "2021-01-01 -0.195277  0.917312 -0.157707 -0.068153 NaN  1.0\n",
            "2021-01-02 -0.281353  0.903436 -0.320357 -0.090488 NaN  1.0\n",
            "2021-01-03 -0.160410 -0.229355 -0.251395 -0.816913 NaN  NaN\n",
            "2021-01-04  1.355639 -0.525148 -0.064758  0.245118 NaN  NaN\n",
            "\n",
            "Filling the missing data with 20:\n",
            "                    A         B         C         D     F     E\n",
            "2021-01-01 -0.195277  0.917312 -0.157707 -0.068153  20.0   1.0\n",
            "2021-01-02 -0.281353  0.903436 -0.320357 -0.090488  20.0   1.0\n",
            "2021-01-03 -0.160410 -0.229355 -0.251395 -0.816913  20.0  20.0\n",
            "2021-01-04  1.355639 -0.525148 -0.064758  0.245118  20.0  20.0\n"
          ]
        }
      ]
    },
    {
      "cell_type": "markdown",
      "metadata": {
        "id": "vMzwvpxcZ3G8"
      },
      "source": [
        "3. From the data given below,\n",
        "  - break the data in to pieces from 0 t0 2 ,3 t0 7\n",
        "  - concatenate the pieces.\n",
        "  - concatenate the pieces along axis 1\n",
        "  - label each as 'a' and 'b' respectively and perform concatenation."
      ]
    },
    {
      "cell_type": "code",
      "metadata": {
        "colab": {
          "base_uri": "https://localhost:8080/"
        },
        "id": "LxGwKPTVbbXV",
        "outputId": "ef2efd72-278d-4dae-9bfa-8f974755e08d"
      },
      "source": [
        "import pandas as pd\n",
        "import numpy as np\n",
        "df = pd.DataFrame(np.random.randn(10, 4))\n",
        "df\n",
        "#please provide your answer below this line\n",
        "print(df)\n",
        "pieces = [df[:3],df[3:8]]\n",
        "print(\"\\nPieces of data from 0 to 2 ,3 to 7:\\n\",pieces[0],\"\\n\",pieces[1])\n",
        "print(\"\\nConcatenated pieces:\\n\",pd.concat(pieces))\n",
        "print(\"\\nconcatenate the pieces along axis 1:\\n\",pd.concat(pieces, axis = 1))\n",
        "a = pieces[0]\n",
        "b = pieces[1]\n",
        "print(\"\\nConcatination of a and b:\\n\",pd.concat([a,b]))"
      ],
      "execution_count": 3,
      "outputs": [
        {
          "output_type": "stream",
          "name": "stdout",
          "text": [
            "          0         1         2         3\n",
            "0 -0.782941 -0.463734 -0.608921  0.007421\n",
            "1 -1.045596 -0.022754  0.462352  1.088687\n",
            "2  0.496171  0.762878 -0.379605 -2.678439\n",
            "3 -0.298711  0.889286 -1.381845 -0.661213\n",
            "4 -1.733044  0.573517 -0.379955 -0.350621\n",
            "5 -0.739185 -0.180002 -1.078736 -1.139468\n",
            "6 -0.293230  1.844708  0.175082  1.331334\n",
            "7  1.653091 -0.518649  0.443369 -0.472410\n",
            "8  1.314480 -1.802581 -0.126044 -0.067121\n",
            "9  1.287000 -0.087971  0.327736  1.305565\n",
            "\n",
            "Pieces of data from 0 to 2 ,3 to 7:\n",
            "           0         1         2         3\n",
            "0 -0.782941 -0.463734 -0.608921  0.007421\n",
            "1 -1.045596 -0.022754  0.462352  1.088687\n",
            "2  0.496171  0.762878 -0.379605 -2.678439 \n",
            "           0         1         2         3\n",
            "3 -0.298711  0.889286 -1.381845 -0.661213\n",
            "4 -1.733044  0.573517 -0.379955 -0.350621\n",
            "5 -0.739185 -0.180002 -1.078736 -1.139468\n",
            "6 -0.293230  1.844708  0.175082  1.331334\n",
            "7  1.653091 -0.518649  0.443369 -0.472410\n",
            "\n",
            "Concatenated pieces:\n",
            "           0         1         2         3\n",
            "0 -0.782941 -0.463734 -0.608921  0.007421\n",
            "1 -1.045596 -0.022754  0.462352  1.088687\n",
            "2  0.496171  0.762878 -0.379605 -2.678439\n",
            "3 -0.298711  0.889286 -1.381845 -0.661213\n",
            "4 -1.733044  0.573517 -0.379955 -0.350621\n",
            "5 -0.739185 -0.180002 -1.078736 -1.139468\n",
            "6 -0.293230  1.844708  0.175082  1.331334\n",
            "7  1.653091 -0.518649  0.443369 -0.472410\n",
            "\n",
            "concatenate the pieces along axis 1:\n",
            "           0         1         2  ...         1         2         3\n",
            "0 -0.782941 -0.463734 -0.608921  ...       NaN       NaN       NaN\n",
            "1 -1.045596 -0.022754  0.462352  ...       NaN       NaN       NaN\n",
            "2  0.496171  0.762878 -0.379605  ...       NaN       NaN       NaN\n",
            "3       NaN       NaN       NaN  ...  0.889286 -1.381845 -0.661213\n",
            "4       NaN       NaN       NaN  ...  0.573517 -0.379955 -0.350621\n",
            "5       NaN       NaN       NaN  ... -0.180002 -1.078736 -1.139468\n",
            "6       NaN       NaN       NaN  ...  1.844708  0.175082  1.331334\n",
            "7       NaN       NaN       NaN  ... -0.518649  0.443369 -0.472410\n",
            "\n",
            "[8 rows x 8 columns]\n",
            "\n",
            "Concatination of a and b:\n",
            "           0         1         2         3\n",
            "0 -0.782941 -0.463734 -0.608921  0.007421\n",
            "1 -1.045596 -0.022754  0.462352  1.088687\n",
            "2  0.496171  0.762878 -0.379605 -2.678439\n",
            "3 -0.298711  0.889286 -1.381845 -0.661213\n",
            "4 -1.733044  0.573517 -0.379955 -0.350621\n",
            "5 -0.739185 -0.180002 -1.078736 -1.139468\n",
            "6 -0.293230  1.844708  0.175082  1.331334\n",
            "7  1.653091 -0.518649  0.443369 -0.472410\n"
          ]
        }
      ]
    },
    {
      "cell_type": "code",
      "metadata": {
        "id": "h290MAgudPQI"
      },
      "source": [
        ""
      ],
      "execution_count": null,
      "outputs": []
    }
  ]
}