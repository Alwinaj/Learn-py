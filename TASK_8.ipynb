{
  "nbformat": 4,
  "nbformat_minor": 0,
  "metadata": {
    "colab": {
      "name": "TASK 8.ipynb",
      "provenance": [],
      "include_colab_link": true
    },
    "kernelspec": {
      "name": "python3",
      "display_name": "Python 3"
    },
    "language_info": {
      "name": "python"
    }
  },
  "cells": [
    {
      "cell_type": "markdown",
      "metadata": {
        "id": "view-in-github",
        "colab_type": "text"
      },
      "source": [
        "<a href=\"https://colab.research.google.com/github/Alwinaj/Learn-py/blob/main/TASK_8.ipynb\" target=\"_parent\"><img src=\"https://colab.research.google.com/assets/colab-badge.svg\" alt=\"Open In Colab\"/></a>"
      ]
    },
    {
      "cell_type": "markdown",
      "metadata": {
        "id": "slsGswYbJSo7"
      },
      "source": [
        "1. Generate a 3 x 3 matrix using random module."
      ]
    },
    {
      "cell_type": "code",
      "metadata": {
        "id": "GGRQSYyNJW9t",
        "outputId": "b821294c-ad3e-4b5b-e971-725b96f2f6ca",
        "colab": {
          "base_uri": "https://localhost:8080/"
        }
      },
      "source": [
        "#please provide your answer below this line.\n",
        "import numpy as np\n",
        "  \n",
        "matrix = np.random.randint(10, size=(3, 3))\n",
        "print(matrix)"
      ],
      "execution_count": 14,
      "outputs": [
        {
          "output_type": "stream",
          "text": [
            "[[6 6 8]\n",
            " [6 9 0]\n",
            " [4 9 3]]\n"
          ],
          "name": "stdout"
        }
      ]
    },
    {
      "cell_type": "markdown",
      "metadata": {
        "id": "4OB9KFX6JfYA"
      },
      "source": [
        "2. Generate two 4 x 4 matrix using numpy and \n",
        "\n",
        " a) Reshape it to 2 x 8matrix and vertically stack it.\n",
        "\n",
        " b) Reshape it to 2 x 8 matrix and horizontally stack it."
      ]
    },
    {
      "cell_type": "code",
      "metadata": {
        "id": "VoIqYeNWJ4H_",
        "outputId": "48c74746-51d9-426e-a986-495d89f3a378",
        "colab": {
          "base_uri": "https://localhost:8080/"
        }
      },
      "source": [
        "#please provide your answer below this line.\n",
        "import numpy as np\n",
        " \n",
        "matrix = np.random.randint(10,size=(4,4))\n",
        "print(matrix)\n",
        " \n",
        "newm = matrix.reshape(2,8)\n",
        "print(\"The Reshaped Matrix is \\n\",newm)\n",
        "vstack = np.vstack(newm,)\n",
        "print(\"Vertically Stacked Matrix is \\n\",vstack)\n",
        "hstack = np.hstack(newm)\n",
        "print(\"Horizontally Stacked Matrix is \\n\",hstack)"
      ],
      "execution_count": 15,
      "outputs": [
        {
          "output_type": "stream",
          "text": [
            "[[3 6 9 9]\n",
            " [5 3 7 0]\n",
            " [7 0 2 0]\n",
            " [6 4 8 2]]\n",
            "The Reshaped Matrix is \n",
            " [[3 6 9 9 5 3 7 0]\n",
            " [7 0 2 0 6 4 8 2]]\n",
            "Vertically Stacked Matrix is \n",
            " [[3 6 9 9 5 3 7 0]\n",
            " [7 0 2 0 6 4 8 2]]\n",
            "Horizontally Stacked Matrix is \n",
            " [3 6 9 9 5 3 7 0 7 0 2 0 6 4 8 2]\n"
          ],
          "name": "stdout"
        }
      ]
    }
  ]
}