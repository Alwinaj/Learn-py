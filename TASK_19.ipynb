{
  "nbformat": 4,
  "nbformat_minor": 0,
  "metadata": {
    "colab": {
      "name": "TASK 19.ipynb",
      "provenance": [],
      "include_colab_link": true
    },
    "kernelspec": {
      "name": "python3",
      "display_name": "Python 3"
    },
    "language_info": {
      "name": "python"
    }
  },
  "cells": [
    {
      "cell_type": "markdown",
      "metadata": {
        "id": "view-in-github",
        "colab_type": "text"
      },
      "source": [
        "<a href=\"https://colab.research.google.com/github/Alwinaj/Learn-py/blob/main/TASK_19.ipynb\" target=\"_parent\"><img src=\"https://colab.research.google.com/assets/colab-badge.svg\" alt=\"Open In Colab\"/></a>"
      ]
    },
    {
      "cell_type": "markdown",
      "metadata": {
        "id": "6J-6GvX2JUcC"
      },
      "source": [
        "1. Create a DataFrame by passing a random numpy array,with a dateted index and labelled columns and display,\n",
        "  - where values of the column A is greater than 0.\n",
        "  - where values of the columns A is greater than 0 and B greater than -1.\n",
        "  - where values of the columns A  is greater than 0 or B greater than -1.\n"
      ]
    },
    {
      "cell_type": "code",
      "metadata": {
        "id": "xX-5VikpLcHL",
        "outputId": "3d5b0dd8-7e58-4902-e1c8-7f8b0933f9c4",
        "colab": {
          "base_uri": "https://localhost:8080/"
        }
      },
      "source": [
        "#please type your code below this line.\n",
        "import numpy as np\n",
        "import pandas as pd\n",
        "datetie = pd.date_range('2021-09-30',periods=8)\n",
        "ok = pd.DataFrame(np.random.randn(8,6), index=datetie, columns=list('ABCDEF'))\n",
        "print(ok)\n",
        "print(\"\\nValues of the column A is greater than 0:\\n\",ok[ok['A']>0])\n",
        "print(\"\\nValues of the columns A is greater than 0 and B greater than -1:\\n\",ok[(ok['A']>0) & (ok['B']>-1)])\n",
        "print(\"\\nValues of the columns A is greater than 0 or B greater than -1:\\n\",ok[(ok['A']>0) | (ok['B']>-1)])"
      ],
      "execution_count": 1,
      "outputs": [
        {
          "output_type": "stream",
          "name": "stdout",
          "text": [
            "                   A         B         C         D         E         F\n",
            "2021-09-30  0.310949  1.999143 -0.331098 -0.696530 -2.049782 -0.870842\n",
            "2021-10-01 -0.461824  0.623438 -0.568434 -0.861157 -1.373357  0.271737\n",
            "2021-10-02  0.562916  0.619918  0.811994  0.837717  0.252545  1.337669\n",
            "2021-10-03 -0.256842 -1.397645 -0.138823 -0.926244  0.021086  0.708466\n",
            "2021-10-04 -0.763907 -0.113886 -1.572304  1.370803  0.431719  0.981916\n",
            "2021-10-05  1.299046 -0.818541  0.146268 -1.852715  0.355375  0.527094\n",
            "2021-10-06  0.309813  0.626222  0.816450  0.974992 -1.148065  0.216658\n",
            "2021-10-07 -0.677708 -0.250294  0.181153 -0.804403 -1.861177 -0.370935\n",
            "\n",
            "Values of the column A is greater than 0:\n",
            "                    A         B         C         D         E         F\n",
            "2021-09-30  0.310949  1.999143 -0.331098 -0.696530 -2.049782 -0.870842\n",
            "2021-10-02  0.562916  0.619918  0.811994  0.837717  0.252545  1.337669\n",
            "2021-10-05  1.299046 -0.818541  0.146268 -1.852715  0.355375  0.527094\n",
            "2021-10-06  0.309813  0.626222  0.816450  0.974992 -1.148065  0.216658\n",
            "\n",
            "Values of the columns A is greater than 0 and B greater than -1:\n",
            "                    A         B         C         D         E         F\n",
            "2021-09-30  0.310949  1.999143 -0.331098 -0.696530 -2.049782 -0.870842\n",
            "2021-10-02  0.562916  0.619918  0.811994  0.837717  0.252545  1.337669\n",
            "2021-10-05  1.299046 -0.818541  0.146268 -1.852715  0.355375  0.527094\n",
            "2021-10-06  0.309813  0.626222  0.816450  0.974992 -1.148065  0.216658\n",
            "\n",
            "Values of the columns A is greater than 0 or B greater than -1:\n",
            "                    A         B         C         D         E         F\n",
            "2021-09-30  0.310949  1.999143 -0.331098 -0.696530 -2.049782 -0.870842\n",
            "2021-10-01 -0.461824  0.623438 -0.568434 -0.861157 -1.373357  0.271737\n",
            "2021-10-02  0.562916  0.619918  0.811994  0.837717  0.252545  1.337669\n",
            "2021-10-04 -0.763907 -0.113886 -1.572304  1.370803  0.431719  0.981916\n",
            "2021-10-05  1.299046 -0.818541  0.146268 -1.852715  0.355375  0.527094\n",
            "2021-10-06  0.309813  0.626222  0.816450  0.974992 -1.148065  0.216658\n",
            "2021-10-07 -0.677708 -0.250294  0.181153 -0.804403 -1.861177 -0.370935\n"
          ]
        }
      ]
    },
    {
      "cell_type": "markdown",
      "metadata": {
        "id": "1WAf9SbwLp6o"
      },
      "source": [
        "2. Create a DataFrame by passing a random numpy array,with a dateted index and labelled columns and check if ,\n",
        "  - the values of the table are greater the zero or not.\n",
        "  - the value at the postion (0,0) is equal to NaN or not."
      ]
    },
    {
      "cell_type": "code",
      "metadata": {
        "id": "rBrt8pMeM2Q5",
        "outputId": "fc5e8408-28a6-486e-e62f-7dc060cad086",
        "colab": {
          "base_uri": "https://localhost:8080/"
        }
      },
      "source": [
        "#please type your code below this line.\n",
        "import numpy as np\n",
        "import pandas as pd\n",
        "datetie = pd.date_range('2021-09-30',periods=8)\n",
        "ok = pd.DataFrame(np.random.randn(8,6), index=datetie, columns=list('ABCDEF'))\n",
        "print(ok)\n",
        "print(\"\\nValues greater the zero or not:\\n\",ok>0)\n",
        "print(\"\\nValue at the postion (0,0) is equal to NaN or not:\\n\",ok.iloc[[0],[0]] == 'NaN')"
      ],
      "execution_count": 2,
      "outputs": [
        {
          "output_type": "stream",
          "name": "stdout",
          "text": [
            "                   A         B         C         D         E         F\n",
            "2021-09-30 -2.440833  0.060082 -1.048185 -0.652126 -0.742037 -0.052770\n",
            "2021-10-01 -0.628620  0.172409 -0.003327  1.196850 -1.408396  0.046522\n",
            "2021-10-02  0.487527 -0.626716 -1.221394  0.074703 -1.723894  0.100548\n",
            "2021-10-03 -0.653931 -0.335348 -0.823295  0.256004  0.513747  1.099556\n",
            "2021-10-04  0.860522  0.184333  2.397200 -1.795376  2.085198 -1.368617\n",
            "2021-10-05  0.495497 -0.516528  0.999279  0.016474  1.950524  1.611980\n",
            "2021-10-06 -0.317193 -1.201082 -0.046730  1.322035 -1.354574 -0.087223\n",
            "2021-10-07 -1.071928  1.806206 -1.521030  1.498480  1.405540 -2.554027\n",
            "\n",
            "Values greater the zero or not:\n",
            "                 A      B      C      D      E      F\n",
            "2021-09-30  False   True  False  False  False  False\n",
            "2021-10-01  False   True  False   True  False   True\n",
            "2021-10-02   True  False  False   True  False   True\n",
            "2021-10-03  False  False  False   True   True   True\n",
            "2021-10-04   True   True   True  False   True  False\n",
            "2021-10-05   True  False   True   True   True   True\n",
            "2021-10-06  False  False  False   True  False  False\n",
            "2021-10-07  False   True  False   True   True  False\n",
            "\n",
            "Value at the postion (0,0) is equal to NaN or not:\n",
            "                 A\n",
            "2021-09-30  False\n"
          ]
        }
      ]
    },
    {
      "cell_type": "markdown",
      "metadata": {
        "id": "IfM9XYmiNaKB"
      },
      "source": [
        "3. Create a DataFrame by passing a random numpy array,with a dateted index and labelled columns and,\n",
        "  - reindex the index with even dates.\n",
        "  - create a column with values NaN.\n",
        "  - make the values of the first two index of the newly created column as 1"
      ]
    },
    {
      "cell_type": "code",
      "metadata": {
        "id": "F-w8kEfaORg3",
        "outputId": "463e432e-172e-48f0-a46c-911022ceab2e",
        "colab": {
          "base_uri": "https://localhost:8080/"
        }
      },
      "source": [
        "#please type your answer below this line.\n",
        "import numpy as np\n",
        "import pandas as pd\n",
        "datetie = pd.date_range('2021-09-30',periods=8)\n",
        "hmm = pd.DataFrame(np.random.randn(8,6), index=datetie, columns=list('ABCDEF'))\n",
        "print(hmm)\n",
        "ok = hmm.reindex(hmm.index[0::2])\n",
        "print(\"\\nIndex with even dates:\\n\",ok)\n",
        "ok['G'] = 'NaN'\n",
        "print(\"\\nNew column with values NaN:\\n\",ok)\n",
        "ok.loc[ok.index[:2],'G'] = 1\n",
        "print(\"\\nFirst two index of the newly created column as 1:\\n\",ok)"
      ],
      "execution_count": 3,
      "outputs": [
        {
          "output_type": "stream",
          "name": "stdout",
          "text": [
            "                   A         B         C         D         E         F\n",
            "2021-09-30  1.026067  0.254733 -0.049023 -0.336310 -0.111316 -1.649633\n",
            "2021-10-01 -0.568116 -0.750235 -1.033347  0.154732 -1.898311  0.599996\n",
            "2021-10-02 -0.197648  0.544326 -0.462205  0.096819  0.382578  0.357887\n",
            "2021-10-03 -0.224126 -1.082363 -1.004831  1.685793 -0.163965  0.425000\n",
            "2021-10-04 -0.520488  0.575654 -1.140980  0.536220 -1.239400  0.995845\n",
            "2021-10-05 -1.167513  0.452992 -0.030091 -1.436865  0.894322  0.164403\n",
            "2021-10-06  0.705144  0.619937  0.637710 -0.523027 -0.823384 -0.495896\n",
            "2021-10-07 -0.974225 -0.014300 -0.917867  0.170762 -0.267137 -0.381889\n",
            "\n",
            "Index with even dates:\n",
            "                    A         B         C         D         E         F\n",
            "2021-09-30  1.026067  0.254733 -0.049023 -0.336310 -0.111316 -1.649633\n",
            "2021-10-02 -0.197648  0.544326 -0.462205  0.096819  0.382578  0.357887\n",
            "2021-10-04 -0.520488  0.575654 -1.140980  0.536220 -1.239400  0.995845\n",
            "2021-10-06  0.705144  0.619937  0.637710 -0.523027 -0.823384 -0.495896\n",
            "\n",
            "New column with values NaN:\n",
            "                    A         B         C         D         E         F    G\n",
            "2021-09-30  1.026067  0.254733 -0.049023 -0.336310 -0.111316 -1.649633  NaN\n",
            "2021-10-02 -0.197648  0.544326 -0.462205  0.096819  0.382578  0.357887  NaN\n",
            "2021-10-04 -0.520488  0.575654 -1.140980  0.536220 -1.239400  0.995845  NaN\n",
            "2021-10-06  0.705144  0.619937  0.637710 -0.523027 -0.823384 -0.495896  NaN\n",
            "\n",
            "First two index of the newly created column as 1:\n",
            "                    A         B         C         D         E         F    G\n",
            "2021-09-30  1.026067  0.254733 -0.049023 -0.336310 -0.111316 -1.649633    1\n",
            "2021-10-02 -0.197648  0.544326 -0.462205  0.096819  0.382578  0.357887    1\n",
            "2021-10-04 -0.520488  0.575654 -1.140980  0.536220 -1.239400  0.995845  NaN\n",
            "2021-10-06  0.705144  0.619937  0.637710 -0.523027 -0.823384 -0.495896  NaN\n"
          ]
        }
      ]
    }
  ]
}