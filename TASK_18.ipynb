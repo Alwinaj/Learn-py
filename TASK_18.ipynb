{
  "nbformat": 4,
  "nbformat_minor": 0,
  "metadata": {
    "colab": {
      "name": "TASK 18.ipynb",
      "provenance": [],
      "include_colab_link": true
    },
    "kernelspec": {
      "name": "python3",
      "display_name": "Python 3"
    },
    "language_info": {
      "name": "python"
    }
  },
  "cells": [
    {
      "cell_type": "markdown",
      "metadata": {
        "id": "view-in-github",
        "colab_type": "text"
      },
      "source": [
        "<a href=\"https://colab.research.google.com/github/Alwinaj/Learn-py/blob/main/TASK_18.ipynb\" target=\"_parent\"><img src=\"https://colab.research.google.com/assets/colab-badge.svg\" alt=\"Open In Colab\"/></a>"
      ]
    },
    {
      "cell_type": "markdown",
      "metadata": {
        "id": "_JgXT8pEAjU4"
      },
      "source": [
        "1. \n",
        "Create a DataFrame by passing a random numpy array,with a datetie index and labelled columns.and,\n",
        "    - slice its first three rows and display.\n",
        "    - slice its odd indexed rows.\n",
        "    - display the dates from 1st postion to 4 th position."
      ]
    },
    {
      "cell_type": "code",
      "metadata": {
        "id": "5zFM5VOJBKBV",
        "outputId": "c10df5e1-5ec3-474b-b43b-76eb9ea01139",
        "colab": {
          "base_uri": "https://localhost:8080/"
        }
      },
      "source": [
        "#please provide your answer below this line.\n",
        "import numpy as np\n",
        "import pandas as pd\n",
        "datetie = pd.date_range('2021-09-30',periods=8)\n",
        "ok = pd.DataFrame(np.random.randn(8,6), index=datetie, columns=list('ABCDEF'))\n",
        "print(\"First three rows:\\n\",ok.iloc[0:3])\n",
        "print(\"\\nOdd  rows:\\n\",ok.iloc[1::2])\n",
        "print(\"\\n1st postion to 4 th position:\\n\", ok.iloc[1:5])"
      ],
      "execution_count": 1,
      "outputs": [
        {
          "output_type": "stream",
          "name": "stdout",
          "text": [
            "First three rows:\n",
            "                    A         B         C         D         E         F\n",
            "2021-09-30 -0.915078  1.074505  0.589840  1.606978  1.086142 -0.529893\n",
            "2021-10-01 -1.202601 -1.426771 -0.003605 -1.328885  0.190925 -0.080232\n",
            "2021-10-02 -1.563775  0.849935 -0.475839 -0.301114 -0.002049 -1.871802\n",
            "\n",
            "Odd  rows:\n",
            "                    A         B         C         D         E         F\n",
            "2021-10-01 -1.202601 -1.426771 -0.003605 -1.328885  0.190925 -0.080232\n",
            "2021-10-03 -1.837538 -1.074911 -0.297102 -1.472855  0.298848  0.470316\n",
            "2021-10-05  1.130749  0.182827 -0.440873 -0.498929 -2.551725 -0.931022\n",
            "2021-10-07 -0.968531  0.585917  2.409879  0.224594  1.834639  0.308660\n",
            "\n",
            "1st postion to 4 th position:\n",
            "                    A         B         C         D         E         F\n",
            "2021-10-01 -1.202601 -1.426771 -0.003605 -1.328885  0.190925 -0.080232\n",
            "2021-10-02 -1.563775  0.849935 -0.475839 -0.301114 -0.002049 -1.871802\n",
            "2021-10-03 -1.837538 -1.074911 -0.297102 -1.472855  0.298848  0.470316\n",
            "2021-10-04  0.561916  0.100730  1.191570  1.364025 -0.059994  0.405629\n"
          ]
        }
      ]
    },
    {
      "cell_type": "markdown",
      "metadata": {
        "id": "QuoucvjxBPmX"
      },
      "source": [
        "2. Create a DataFrame by passing a random numpy array,with a datetie index and labelled columns.and\n",
        "  - Dislplay the index from the 1 to 3 date and the columns A and B of respective data.\n",
        "  - Display the datas at the 3rd index.\n",
        "  - Display datas from 2nd to 5th.\n",
        "  - Display the datas from the index 1,2,4 and the column 0 and 2."
      ]
    },
    {
      "cell_type": "code",
      "metadata": {
        "id": "qV_wzsp1DUKI",
        "outputId": "bfd59465-7054-4098-8815-02b7cf10e3b7",
        "colab": {
          "base_uri": "https://localhost:8080/"
        }
      },
      "source": [
        "#please provide your answer below thins line.\n",
        "import numpy as np\n",
        "import pandas as pd\n",
        "datetie = pd.date_range('2021-09-30',periods=8)\n",
        "ok = pd.DataFrame(np.random.randn(8,6), index=datetie, columns=list('ABCDEF'))\n",
        "print(\"Index 1 to 3 date and the columns A and B:\\n\",ok.iloc[0:3,0:2])\n",
        "print(\"\\nDatas at the 3rd index:\\n\",ok.iloc[3:4])\n",
        "print(\"\\nDatas from 2nd to 5th:\\n\",ok.iloc[2:6])\n",
        "print(\"\\nDatas from the index 1,2,4 and the column 0 and 2:\\n\",ok.iloc[[1,2,4],[0,2]])"
      ],
      "execution_count": 2,
      "outputs": [
        {
          "output_type": "stream",
          "name": "stdout",
          "text": [
            "Index 1 to 3 date and the columns A and B:\n",
            "                    A         B\n",
            "2021-09-30 -1.375527  0.513366\n",
            "2021-10-01 -0.299486 -0.201641\n",
            "2021-10-02  1.569728  0.229248\n",
            "\n",
            "Datas at the 3rd index:\n",
            "                    A         B         C        D        E         F\n",
            "2021-10-03 -0.268146  0.537886 -0.000145  0.24535  0.49525  1.013815\n",
            "\n",
            "Datas from 2nd to 5th:\n",
            "                    A         B         C         D         E         F\n",
            "2021-10-02  1.569728  0.229248 -1.813657  0.652693  0.914133 -1.219542\n",
            "2021-10-03 -0.268146  0.537886 -0.000145  0.245350  0.495250  1.013815\n",
            "2021-10-04 -2.262214 -0.257170  2.113153 -1.026203 -0.890511  1.558445\n",
            "2021-10-05 -0.542801  1.429231  0.599968  1.451842 -1.227868 -1.503182\n",
            "\n",
            "Datas from the index 1,2,4 and the column 0 and 2:\n",
            "                    A         C\n",
            "2021-10-01 -0.299486 -0.024865\n",
            "2021-10-02  1.569728 -1.813657\n",
            "2021-10-04 -2.262214  2.113153\n"
          ]
        }
      ]
    }
  ]
}