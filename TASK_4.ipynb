{
  "nbformat": 4,
  "nbformat_minor": 0,
  "metadata": {
    "colab": {
      "name": "TASK 4",
      "provenance": [],
      "include_colab_link": true
    },
    "kernelspec": {
      "name": "python3",
      "display_name": "Python 3"
    },
    "language_info": {
      "name": "python"
    }
  },
  "cells": [
    {
      "cell_type": "markdown",
      "metadata": {
        "id": "view-in-github",
        "colab_type": "text"
      },
      "source": [
        "<a href=\"https://colab.research.google.com/github/Alwinaj/Learn-py/blob/main/TASK_4.ipynb\" target=\"_parent\"><img src=\"https://colab.research.google.com/assets/colab-badge.svg\" alt=\"Open In Colab\"/></a>"
      ]
    },
    {
      "cell_type": "markdown",
      "metadata": {
        "id": "jhLooYoXnjso"
      },
      "source": [
        "1. Create a dictionary that contains \n",
        "            name = Alex Ryder\n",
        "            age  = 28\n",
        "Update the age to 32 and another element to the dictionary\n",
        "            age = 32\n",
        "            town = calicut\n",
        "Expected output\n",
        "            {'name': 'Alex Ryder', 'age': 32, 'town': 'calicut'}"
      ]
    },
    {
      "cell_type": "code",
      "metadata": {
        "id": "EE8jp4PMpp4Q",
        "outputId": "748ecd0f-39b2-4038-efdf-7b9d3cf4c845",
        "colab": {
          "base_uri": "https://localhost:8080/"
        }
      },
      "source": [
        "#please enter your answer below this line\n",
        "dict = {'name': 'Alex Ryder', 'age': 28, 'town': 'calicut'}\n",
        "print(dict)\n",
        " \n",
        "dict['age']=32\n",
        "print(\"\\n\",dict)"
      ],
      "execution_count": 16,
      "outputs": [
        {
          "output_type": "stream",
          "text": [
            "{'name': 'Alex Ryder', 'age': 28, 'town': 'calicut'}\n",
            "\n",
            " {'name': 'Alex Ryder', 'age': 32, 'town': 'calicut'}\n"
          ],
          "name": "stdout"
        }
      ]
    },
    {
      "cell_type": "markdown",
      "metadata": {
        "id": "nM1kmYmKqFwT"
      },
      "source": [
        "2. Create a dictionary containing the squares of numbers from 1 to 5.\n",
        "Expected output\n",
        "            {1: 1, 2: 4, 3: 9, 4: 16, 5: 15}\n",
        "\n",
        "From this dictionary remove the item 3 and its square.\n",
        "\n",
        "Expected output\n",
        "                    \n",
        "                {1: 1, 2: 4, 4: 16, 5: 15}\n",
        "\n",
        "Now remove all items from the dictionary.\n",
        "\n",
        "Expected output\n",
        "\n",
        "      {}\n",
        "\n",
        "Now delete the dictionary itself.\n",
        "\n",
        "          "
      ]
    },
    {
      "cell_type": "code",
      "metadata": {
        "id": "VL312SCHygzS",
        "outputId": "dfb916b8-4a54-4011-d544-7ff4aefb9840",
        "colab": {
          "base_uri": "https://localhost:8080/"
        }
      },
      "source": [
        "#please enter your answer below this line\n",
        "dict={1: 1, 2: 4, 3: 9, 4: 16, 5: 25}\n",
        " \n",
        "for i in range(1,4):\n",
        "  print(\"Removed key,value\")\n",
        "  print(dict.popitem())\n",
        "    \n",
        "print(\"\\n\", \"Remaining Dictionary items\")\n",
        "print(dict,end=\"\\n\")\n",
        " \n",
        "dict.clear()\n",
        "print(\"\\n\",\"Cleared Dictionary\")\n",
        "print(dict)"
      ],
      "execution_count": 15,
      "outputs": [
        {
          "output_type": "stream",
          "text": [
            "Removed key,value\n",
            "(5, 25)\n",
            "Removed key,value\n",
            "(4, 16)\n",
            "Removed key,value\n",
            "(3, 9)\n",
            "\n",
            " Remaining Dictionary items\n",
            "{1: 1, 2: 4}\n",
            "\n",
            " Cleared Dictionary\n",
            "{}\n"
          ],
          "name": "stdout"
        }
      ]
    },
    {
      "cell_type": "markdown",
      "metadata": {
        "id": "GaJF8GEPzDQN"
      },
      "source": [
        "3. Make a set containing the elements 1, hello, (0,1,2).\n",
        "\n",
        "Expected output\n",
        "            \n",
        "            {'hello', 1, (0, 1, 2)}\n",
        "\n",
        "Now add the value 6 to the set.\n",
        "\n",
        "Expected output\n",
        "\n",
        "        {'hello', 1, (0, 1, 2), 6}\n",
        "\n",
        "\n",
        "\n"
      ]
    },
    {
      "cell_type": "code",
      "metadata": {
        "id": "RlKGp2E31rZB",
        "outputId": "6d36d9e4-e5c0-42c9-ba0d-f3edbb11a734",
        "colab": {
          "base_uri": "https://localhost:8080/"
        }
      },
      "source": [
        "#please enter your answer below the line\n",
        "set = {'hello',1,(0,1,2)}\n",
        "print(set)\n",
        "set.add(6)\n",
        "print(set)"
      ],
      "execution_count": 13,
      "outputs": [
        {
          "output_type": "stream",
          "text": [
            "{(0, 1, 2), 1, 'hello'}\n",
            "{(0, 1, 2), 1, 'hello', 6}\n"
          ],
          "name": "stdout"
        }
      ]
    }
  ]
}