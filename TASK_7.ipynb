{
  "nbformat": 4,
  "nbformat_minor": 0,
  "metadata": {
    "colab": {
      "name": "TASK  7.ipynb",
      "provenance": [],
      "include_colab_link": true
    },
    "kernelspec": {
      "name": "python3",
      "display_name": "Python 3"
    },
    "language_info": {
      "name": "python"
    }
  },
  "cells": [
    {
      "cell_type": "markdown",
      "metadata": {
        "id": "view-in-github",
        "colab_type": "text"
      },
      "source": [
        "<a href=\"https://colab.research.google.com/github/Alwinaj/Learn-py/blob/main/TASK_7.ipynb\" target=\"_parent\"><img src=\"https://colab.research.google.com/assets/colab-badge.svg\" alt=\"Open In Colab\"/></a>"
      ]
    },
    {
      "cell_type": "markdown",
      "metadata": {
        "id": "b0V3vwzcydKy"
      },
      "source": [
        "1. Write a program to check whether a  string is palindrome or not using functions. \n",
        "\n",
        "   ( A function is to be created to check whether the string is palindrome and it should give the output true or false to the main program)"
      ]
    },
    {
      "cell_type": "code",
      "metadata": {
        "id": "M2Mi7EOdyxiu",
        "outputId": "2123338a-71aa-47d3-d5eb-b2728421a67c",
        "colab": {
          "base_uri": "https://localhost:8080/"
        }
      },
      "source": [
        "#please enter the \n",
        " \n",
        "def check(st):\n",
        "    rev=st[::-1]\n",
        "    print(\"string :\",st)\n",
        "    print(\"reverse:\",rev)\n",
        "    if (st==rev):\n",
        "     return True\n",
        "    else:\n",
        "     return False\n",
        "x=input(\"Enter a string:\")\n",
        "if check(x):\n",
        " print(\"true\")\n",
        "else:\n",
        " print(\"false\")"
      ],
      "execution_count": 1,
      "outputs": [
        {
          "output_type": "stream",
          "text": [
            "Enter a string:ALWIN\n",
            "string : ALWIN\n",
            "reverse: NIWLA\n",
            "false\n"
          ],
          "name": "stdout"
        }
      ]
    },
    {
      "cell_type": "markdown",
      "metadata": {
        "id": "vSiShTyOzEz-"
      },
      "source": [
        "2.  Write a menu driven program to find largest element in L, smallest element, avg of all values, sum of all values in L. All these operation should be performed in different functions and the result should be returned.\n",
        "\n",
        "\n",
        "      L=[23,24,11,90,1,41,9,99,28,56,72]"
      ]
    },
    {
      "cell_type": "code",
      "metadata": {
        "id": "fRtMIw_CzsmO",
        "outputId": "fab30d92-4bc1-4399-e3f9-04620083781c",
        "colab": {
          "base_uri": "https://localhost:8080/"
        }
      },
      "source": [
        "#please enter the code below this line.\n",
        "L=[23,24,11,90,1,41,9,99,28,56,72]\n",
        "def largest(L):\n",
        "    max = L[0] \n",
        "    for x in L: \n",
        "        if x > max : \n",
        "             max = x \n",
        "    return max\n",
        "def smallest(L):\n",
        "    min = L[0] \n",
        "    for x in L: \n",
        "        if x <min : \n",
        "             min = x \n",
        "    return min\n",
        "def Average(L):\n",
        "    return sum(L) / len(L)\n",
        "def sums(L):\n",
        "    return sum(L)\n",
        "while True:\n",
        "    print (\"Menu driven program\")\n",
        "    print (\"1.Largest number of L \")\n",
        "    print (\"2.Smallest number of L \")\n",
        "    print (\"3.Average of all numbers \")\n",
        "    print (\"4.Sum of all elements \")\n",
        "    print(\"5.Exit\")\n",
        "    choice=int(input(\"Enter your choice:\"))\n",
        "    if (choice==1):\n",
        "        print(\"largest number of L is\",largest(L))\n",
        "    elif (choice==2):\n",
        "        print(\"smallest number of L is\",smallest(L))\n",
        "    elif (choice==3):\n",
        "        print(\"Average of all the numbers in L\",Average(L))\n",
        "    elif(choice==4):\n",
        "        print(\"Sum of all the numbers in L\",sums(L))\n",
        "    elif (choice==5):\n",
        "            exit()\n",
        "            \n",
        "    else:\n",
        "        print(\"wrong choice\")"
      ],
      "execution_count": null,
      "outputs": [
        {
          "output_type": "stream",
          "text": [
            "Menu driven program\n",
            "1.Largest number of L \n",
            "2.Smallest number of L \n",
            "3.Average of all numbers \n",
            "4.Sum of all elements \n",
            "5.Exit\n",
            "Enter your choice:1\n",
            "largest number of L is 99\n",
            "Menu driven program\n",
            "1.Largest number of L \n",
            "2.Smallest number of L \n",
            "3.Average of all numbers \n",
            "4.Sum of all elements \n",
            "5.Exit\n",
            "Enter your choice:2\n",
            "smallest number of L is 1\n",
            "Menu driven program\n",
            "1.Largest number of L \n",
            "2.Smallest number of L \n",
            "3.Average of all numbers \n",
            "4.Sum of all elements \n",
            "5.Exit\n",
            "Enter your choice:3\n",
            "Average of all the numbers in L 41.27272727272727\n",
            "Menu driven program\n",
            "1.Largest number of L \n",
            "2.Smallest number of L \n",
            "3.Average of all numbers \n",
            "4.Sum of all elements \n",
            "5.Exit\n",
            "Enter your choice:4\n",
            "Sum of all the numbers in L 454\n",
            "Menu driven program\n",
            "1.Largest number of L \n",
            "2.Smallest number of L \n",
            "3.Average of all numbers \n",
            "4.Sum of all elements \n",
            "5.Exit\n",
            "Enter your choice:5\n",
            "Menu driven program\n",
            "1.Largest number of L \n",
            "2.Smallest number of L \n",
            "3.Average of all numbers \n",
            "4.Sum of all elements \n",
            "5.Exit\n"
          ],
          "name": "stdout"
        }
      ]
    }
  ]
}