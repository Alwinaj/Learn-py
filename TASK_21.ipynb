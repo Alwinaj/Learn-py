{
  "nbformat": 4,
  "nbformat_minor": 0,
  "metadata": {
    "colab": {
      "name": "TASK 21.ipynb",
      "provenance": [],
      "include_colab_link": true
    },
    "kernelspec": {
      "name": "python3",
      "display_name": "Python 3"
    },
    "language_info": {
      "name": "python"
    }
  },
  "cells": [
    {
      "cell_type": "markdown",
      "metadata": {
        "id": "view-in-github",
        "colab_type": "text"
      },
      "source": [
        "<a href=\"https://colab.research.google.com/github/Alwinaj/Learn-py/blob/main/TASK_21.ipynb\" target=\"_parent\"><img src=\"https://colab.research.google.com/assets/colab-badge.svg\" alt=\"Open In Colab\"/></a>"
      ]
    },
    {
      "cell_type": "markdown",
      "metadata": {
        "id": "wK9sv7fHTnyo"
      },
      "source": [
        "1.  Using the dataset given below,\n",
        "  - Group the given dataset by A and find the sum of the groups.\n",
        "  - Find the 3 least elements from the column D\n",
        "  - Find the 3 largest elements from the Column D which belongs to the group\n",
        "  'bar'."
      ]
    },
    {
      "cell_type": "code",
      "metadata": {
        "id": "C_Kq4i_rVNyB",
        "outputId": "1caebe39-ae6d-4c34-f67b-9319a2866f60",
        "colab": {
          "base_uri": "https://localhost:8080/"
        }
      },
      "source": [
        "import pandas as pd\n",
        "import numpy as np\n",
        "df = pd.DataFrame({'A' : ['foo', 'bar', 'foo', 'bar',\n",
        "                          'foo', 'bar', 'foo', 'foo'],\n",
        "                   'B' : ['one', 'one', 'two', 'three',\n",
        "                          'two', 'two', 'one', 'three'],\n",
        "                   'C' : np.random.randn(8),\n",
        "                   'D' : np.random.randn(8)})\n",
        "df\n",
        "#please type your code below this line.\n",
        "group = df.groupby('A')\n",
        "print(\"sum of the groups:\\n\",group.sum())\n",
        "print(\"3 least elements from the column D:\\n\",df['D'].nsmallest(3))\n",
        "print(\"3 largest elements from the Column D which belongs to the group 'bar':\\n\",group['D'].get_group('bar').nlargest(3))"
      ],
      "execution_count": 1,
      "outputs": [
        {
          "output_type": "stream",
          "name": "stdout",
          "text": [
            "sum of the groups:\n",
            "             C         D\n",
            "A                      \n",
            "bar  1.186454 -1.435241\n",
            "foo -2.878607  0.233726\n",
            "3 least elements from the column D:\n",
            " 1   -2.086836\n",
            "0   -1.230318\n",
            "4   -0.313185\n",
            "Name: D, dtype: float64\n",
            "3 largest elements from the Column D which belongs to the group 'bar':\n",
            " 3    0.662040\n",
            "5   -0.010445\n",
            "1   -2.086836\n",
            "Name: D, dtype: float64\n"
          ]
        }
      ]
    },
    {
      "cell_type": "markdown",
      "metadata": {
        "id": "68XLHGsrdHXb"
      },
      "source": [
        "2. Using the dataset given below,\n",
        "  - convert the dataset into a csv file.\n",
        "  - read the csv file just saved\n",
        "  - covert the dataset into a excel file.\n",
        "  - read the excel file just saved."
      ]
    },
    {
      "cell_type": "code",
      "metadata": {
        "id": "J4BOx3UZdVLV",
        "outputId": "b3a2e8fc-9c0a-459d-f296-ab9dfee40d5b",
        "colab": {
          "base_uri": "https://localhost:8080/"
        }
      },
      "source": [
        "import pandas as pd\n",
        "import numpy as np\n",
        "df = pd.DataFrame({'A' : ['foo', 'bar', 'foo', 'bar',\n",
        "                          'foo', 'bar', 'foo', 'foo'],\n",
        "                   'B' : ['one', 'one', 'two', 'three',\n",
        "                          'two', 'two', 'one', 'three'],\n",
        "                   'C' : np.random.randn(8),\n",
        "                   'D' : np.random.randn(8)})\n",
        "#please type your code below this line.\n",
        "print(df)\n",
        "df.to_csv('csvFile.csv')\n",
        "print(\"CSS FILE:\\n\", pd.read_csv('csvFile.csv'))\n",
        "df.to_excel('excelFile.xlsx')\n",
        "print(\"EXCEL FILE:\\n\",pd.read_excel('excelFile.xlsx'))"
      ],
      "execution_count": 2,
      "outputs": [
        {
          "output_type": "stream",
          "name": "stdout",
          "text": [
            "     A      B         C         D\n",
            "0  foo    one  1.874605 -0.728076\n",
            "1  bar    one  0.208220 -0.325827\n",
            "2  foo    two  1.030090  0.899127\n",
            "3  bar  three -1.291165  0.783020\n",
            "4  foo    two  1.502566  0.645335\n",
            "5  bar    two -0.472196  0.328125\n",
            "6  foo    one  0.369187  0.087613\n",
            "7  foo  three  1.759431  0.487620\n",
            "CSS FILE:\n",
            "    Unnamed: 0    A      B         C         D\n",
            "0           0  foo    one  1.874605 -0.728076\n",
            "1           1  bar    one  0.208220 -0.325827\n",
            "2           2  foo    two  1.030090  0.899127\n",
            "3           3  bar  three -1.291165  0.783020\n",
            "4           4  foo    two  1.502566  0.645335\n",
            "5           5  bar    two -0.472196  0.328125\n",
            "6           6  foo    one  0.369187  0.087613\n",
            "7           7  foo  three  1.759431  0.487620\n",
            "EXCEL FILE:\n",
            "    Unnamed: 0    A      B         C         D\n",
            "0           0  foo    one  1.874605 -0.728076\n",
            "1           1  bar    one  0.208220 -0.325827\n",
            "2           2  foo    two  1.030090  0.899127\n",
            "3           3  bar  three -1.291165  0.783020\n",
            "4           4  foo    two  1.502566  0.645335\n",
            "5           5  bar    two -0.472196  0.328125\n",
            "6           6  foo    one  0.369187  0.087613\n",
            "7           7  foo  three  1.759431  0.487620\n"
          ]
        }
      ]
    }
  ]
}