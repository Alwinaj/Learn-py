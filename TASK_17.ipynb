{
  "nbformat": 4,
  "nbformat_minor": 0,
  "metadata": {
    "colab": {
      "name": "TASK 17.ipynb",
      "provenance": [],
      "include_colab_link": true
    },
    "kernelspec": {
      "name": "python3",
      "display_name": "Python 3"
    },
    "language_info": {
      "name": "python"
    }
  },
  "cells": [
    {
      "cell_type": "markdown",
      "metadata": {
        "id": "view-in-github",
        "colab_type": "text"
      },
      "source": [
        "<a href=\"https://colab.research.google.com/github/Alwinaj/Learn-py/blob/main/TASK_17.ipynb\" target=\"_parent\"><img src=\"https://colab.research.google.com/assets/colab-badge.svg\" alt=\"Open In Colab\"/></a>"
      ]
    },
    {
      "cell_type": "markdown",
      "metadata": {
        "id": "0SLapvpoaeYY"
      },
      "source": [
        "1. Create a DataFrame by passing a random numpy array,with a datetie index and labelled columns.and display its,\n",
        "     - Head\n",
        "     - Tail\n",
        "     - Index \n",
        "     - Columns\n",
        "     - Values\n",
        "     - statistics\n"
      ]
    },
    {
      "cell_type": "code",
      "metadata": {
        "id": "zJDkjyVxa5yU",
        "outputId": "e472cc48-f05d-4ddf-a6ce-4057db272363",
        "colab": {
          "base_uri": "https://localhost:8080/"
        }
      },
      "source": [
        "#please type your answer below this line.\n",
        "import numpy as np\n",
        "import pandas as pd\n",
        "datetie = pd.date_range('2021-09-30',periods=4)\n",
        "ok = pd.DataFrame(np.random.randn(4,4), index=datetie, columns=list('ABCD'))\n",
        "print(\"Head:\\n\", ok.head())\n",
        "print(\"\\nTail:\\n\", ok.tail())\n",
        "print(\"\\nIndex:\\n\", ok.index)\n",
        "print(\"\\nColumns:\\n\", ok.columns)\n",
        "print(\"\\nValues:\\n\", ok.values)\n",
        "print(\"\\nStatistics:\\n\", ok.describe(include='all'))"
      ],
      "execution_count": 1,
      "outputs": [
        {
          "output_type": "stream",
          "name": "stdout",
          "text": [
            "Head:\n",
            "                    A         B         C         D\n",
            "2021-09-30  0.964130  0.815896 -0.282415 -2.271751\n",
            "2021-10-01 -0.628853  1.478582  1.049612 -0.132305\n",
            "2021-10-02 -0.955779  0.164077 -0.710333  0.167878\n",
            "2021-10-03 -0.067736 -1.036016 -1.233336 -0.606778\n",
            "\n",
            "Tail:\n",
            "                    A         B         C         D\n",
            "2021-09-30  0.964130  0.815896 -0.282415 -2.271751\n",
            "2021-10-01 -0.628853  1.478582  1.049612 -0.132305\n",
            "2021-10-02 -0.955779  0.164077 -0.710333  0.167878\n",
            "2021-10-03 -0.067736 -1.036016 -1.233336 -0.606778\n",
            "\n",
            "Index:\n",
            " DatetimeIndex(['2021-09-30', '2021-10-01', '2021-10-02', '2021-10-03'], dtype='datetime64[ns]', freq='D')\n",
            "\n",
            "Columns:\n",
            " Index(['A', 'B', 'C', 'D'], dtype='object')\n",
            "\n",
            "Values:\n",
            " [[ 0.96412971  0.81589597 -0.28241501 -2.27175103]\n",
            " [-0.62885276  1.47858158  1.04961208 -0.13230468]\n",
            " [-0.95577932  0.16407659 -0.71033267  0.16787764]\n",
            " [-0.06773557 -1.03601636 -1.23333627 -0.60677824]]\n",
            "\n",
            "Statistics:\n",
            "               A         B         C         D\n",
            "count  4.000000  4.000000  4.000000  4.000000\n",
            "mean  -0.172059  0.355634 -0.294118 -0.710739\n",
            "std    0.841563  1.071796  0.976578  1.088442\n",
            "min   -0.955779 -1.036016 -1.233336 -2.271751\n",
            "25%   -0.710584 -0.135947 -0.841084 -1.023021\n",
            "50%   -0.348294  0.489986 -0.496374 -0.369541\n",
            "75%    0.190231  0.981567  0.050592 -0.057259\n",
            "max    0.964130  1.478582  1.049612  0.167878\n"
          ]
        }
      ]
    },
    {
      "cell_type": "markdown",
      "metadata": {
        "id": "xnkA2mKDdyoO"
      },
      "source": [
        "2. Use the above table and,\n",
        "      - find transpose of your data.\n",
        "      - sort the index in the descending order of the date."
      ]
    },
    {
      "cell_type": "code",
      "metadata": {
        "id": "uqcQSEOufJ5P",
        "outputId": "5765fbab-64bb-42a2-f046-3b7a6fff23d1",
        "colab": {
          "base_uri": "https://localhost:8080/"
        }
      },
      "source": [
        "#please provide your answer below this line.\n",
        "import numpy as np\n",
        "import pandas as pd\n",
        "datetie = pd.date_range('2021-09-30',periods=4)\n",
        "ok = pd.DataFrame(np.random.randn(4,4), index=datetie, columns=list('ABCD'))\n",
        "print(\"Head:\\n\", ok.head())\n",
        "print(\"\\nTail:\\n\", ok.tail())\n",
        "print(\"\\nIndex:\\n\", ok.index)\n",
        "print(\"\\nColumns:\\n\", ok.columns)\n",
        "print(\"\\nValues:\\n\", ok.values)\n",
        "print(\"\\nStatistics:\\n\", ok.describe(include='all'))"
      ],
      "execution_count": 2,
      "outputs": [
        {
          "output_type": "stream",
          "name": "stdout",
          "text": [
            "Head:\n",
            "                    A         B         C         D\n",
            "2021-09-30 -0.742001  0.238664 -2.151923 -0.169715\n",
            "2021-10-01  0.357348  0.219903  0.611873  1.086998\n",
            "2021-10-02  0.606857  0.252512  0.483200 -0.425283\n",
            "2021-10-03  0.892701  0.841490  2.415678  0.663037\n",
            "\n",
            "Tail:\n",
            "                    A         B         C         D\n",
            "2021-09-30 -0.742001  0.238664 -2.151923 -0.169715\n",
            "2021-10-01  0.357348  0.219903  0.611873  1.086998\n",
            "2021-10-02  0.606857  0.252512  0.483200 -0.425283\n",
            "2021-10-03  0.892701  0.841490  2.415678  0.663037\n",
            "\n",
            "Index:\n",
            " DatetimeIndex(['2021-09-30', '2021-10-01', '2021-10-02', '2021-10-03'], dtype='datetime64[ns]', freq='D')\n",
            "\n",
            "Columns:\n",
            " Index(['A', 'B', 'C', 'D'], dtype='object')\n",
            "\n",
            "Values:\n",
            " [[-0.74200083  0.23866383 -2.15192278 -0.16971451]\n",
            " [ 0.35734771  0.21990287  0.61187265  1.08699787]\n",
            " [ 0.60685674  0.25251229  0.48320007 -0.42528345]\n",
            " [ 0.89270146  0.84148984  2.41567784  0.66303675]]\n",
            "\n",
            "Statistics:\n",
            "               A         B         C         D\n",
            "count  4.000000  4.000000  4.000000  4.000000\n",
            "mean   0.278726  0.388142  0.339707  0.288759\n",
            "std    0.714773  0.302527  1.880828  0.706476\n",
            "min   -0.742001  0.219903 -2.151923 -0.425283\n",
            "25%    0.082511  0.233974 -0.175581 -0.233607\n",
            "50%    0.482102  0.245588  0.547536  0.246661\n",
            "75%    0.678318  0.399757  1.062824  0.769027\n",
            "max    0.892701  0.841490  2.415678  1.086998\n"
          ]
        }
      ]
    },
    {
      "cell_type": "markdown",
      "metadata": {
        "id": "ss7s_8iDbAcL"
      },
      "source": [
        ""
      ]
    }
  ]
}