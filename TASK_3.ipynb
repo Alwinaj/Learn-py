{
  "nbformat": 4,
  "nbformat_minor": 0,
  "metadata": {
    "colab": {
      "name": "TASK 3.ipynb",
      "provenance": [],
      "include_colab_link": true
    },
    "kernelspec": {
      "name": "python3",
      "display_name": "Python 3"
    },
    "language_info": {
      "name": "python"
    }
  },
  "cells": [
    {
      "cell_type": "markdown",
      "metadata": {
        "id": "view-in-github",
        "colab_type": "text"
      },
      "source": [
        "<a href=\"https://colab.research.google.com/github/Alwinaj/Learn-py/blob/main/TASK_3.ipynb\" target=\"_parent\"><img src=\"https://colab.research.google.com/assets/colab-badge.svg\" alt=\"Open In Colab\"/></a>"
      ]
    },
    {
      "cell_type": "markdown",
      "metadata": {
        "id": "z20IIB0eUQMN"
      },
      "source": [
        "1 - Write a program which takes a number as input from the user and check whether the number is odd or even.If odd print the number is odd if not print it is even."
      ]
    },
    {
      "cell_type": "code",
      "metadata": {
        "id": "dVgGJ-wTVRit",
        "outputId": "6dfe9ea1-2ac1-4425-fdf8-0d1c0ad6f94e",
        "colab": {
          "base_uri": "https://localhost:8080/"
        }
      },
      "source": [
        "#please enter your answer below this line\n",
        "num=int(input(\"enter the number \"))\n",
        "temp=num%2\n",
        "if temp>0:\n",
        "   print (\" The number is odd\") \n",
        "else:\n",
        "   print (\"The number is even \")"
      ],
      "execution_count": 3,
      "outputs": [
        {
          "output_type": "stream",
          "text": [
            "enter the number 50\n",
            "The number is even \n"
          ],
          "name": "stdout"
        }
      ]
    },
    {
      "cell_type": "markdown",
      "metadata": {
        "id": "7778XD8PVblj"
      },
      "source": [
        "2 -Write a program to find the largest among three numbers and print the largest number."
      ]
    },
    {
      "cell_type": "code",
      "metadata": {
        "id": "m0tUOkOFWR-d",
        "outputId": "8f4865f6-bce9-44e5-8439-02b6266669da",
        "colab": {
          "base_uri": "https://localhost:8080/"
        }
      },
      "source": [
        "#please enter your answer below this line\n",
        "a=int(input (\"enter the first number :\"))\n",
        "b=int(input(\"enter the second number :\")) \n",
        "c=int(input(\"enter the third number :\"))\n",
        " \n",
        "if a>b>c:\n",
        " print(a,\"is the largest number\") \n",
        "elif b>a>c:\n",
        " print(b,\"is the largest number\")\n",
        "else :\n",
        " print(c, \"is the largest number\")"
      ],
      "execution_count": 4,
      "outputs": [
        {
          "output_type": "stream",
          "text": [
            "enter the first number :4\n",
            "enter the second number :5\n",
            "enter the third number :6\n",
            "6 is the largest number\n"
          ],
          "name": "stdout"
        }
      ]
    },
    {
      "cell_type": "markdown",
      "metadata": {
        "id": "Jg2Ns4OQWaJy"
      },
      "source": [
        "3 -Write a function to prompt for a score between 0.0 and 1.0.\n",
        " \n",
        "    If the score is out of range, print an error.\n",
        "    If the score is between 0.0 and 1.0, print a grade using the following table:\n",
        "    Score Grade\n",
        "             Score  Grade\n",
        "            >= 0.9  A\n",
        "            >= 0.8  B\n",
        "            >= 0.7  C\n",
        "            >= 0.6  D\n",
        "             < 0.6  F\n",
        "If the user enters a value out of range, print a suitable error message and exit. For the test, enter a score of 0.85."
      ]
    },
    {
      "cell_type": "code",
      "metadata": {
        "id": "6DLbGe6XXZPx",
        "outputId": "f21bc1c1-82a1-4092-f48e-470c5a082757",
        "colab": {
          "base_uri": "https://localhost:8080/"
        }
      },
      "source": [
        "#please enter your answer below this line\n",
        "s= float(input(\"Enter score: \")) \n",
        " \n",
        "if s >= 0.9 and s <= 1.0:\n",
        "    print(\"A\")\n",
        "elif s >= 0.8 and s < 0.9 :\n",
        "    print(\"B\")\n",
        "elif s >= 0.7 and s < 0.8 :\n",
        "    print(\"C\")\n",
        "elif s >= 0.6 and s < 0.7 :\n",
        "    print(\"D\")\n",
        "elif s < 0.6 and s > 0.0  :\n",
        "    print(\"F\")\n",
        "else :\n",
        "    try:\n",
        "        if s <= 0.0 or s >= 1.0 :\n",
        "            print(\"Error,Score is out of range.Please enter score between 0.0 and 1.0\")\n",
        "    except :\n",
        "            quit()"
      ],
      "execution_count": 7,
      "outputs": [
        {
          "output_type": "stream",
          "text": [
            "Enter score: 0.85\n",
            "B\n"
          ],
          "name": "stdout"
        }
      ]
    },
    {
      "cell_type": "markdown",
      "metadata": {
        "id": "-o0scDq7WkVT"
      },
      "source": [
        ""
      ]
    }
  ]
}