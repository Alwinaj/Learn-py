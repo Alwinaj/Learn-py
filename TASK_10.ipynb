{
  "nbformat": 4,
  "nbformat_minor": 0,
  "metadata": {
    "colab": {
      "name": "TASK 10.ipynb",
      "provenance": [],
      "include_colab_link": true
    },
    "kernelspec": {
      "name": "python3",
      "display_name": "Python 3"
    },
    "language_info": {
      "name": "python"
    }
  },
  "cells": [
    {
      "cell_type": "markdown",
      "metadata": {
        "id": "view-in-github",
        "colab_type": "text"
      },
      "source": [
        "<a href=\"https://colab.research.google.com/github/Alwinaj/Learn-py/blob/main/TASK_10.ipynb\" target=\"_parent\"><img src=\"https://colab.research.google.com/assets/colab-badge.svg\" alt=\"Open In Colab\"/></a>"
      ]
    },
    {
      "cell_type": "markdown",
      "metadata": {
        "id": "VHKxwUewxOi2"
      },
      "source": [
        "1. Generate two  3 x 3 matrix and find it's dot product and take the transpose of the answer."
      ]
    },
    {
      "cell_type": "code",
      "metadata": {
        "id": "RdyKd1CAxZtR",
        "outputId": "b93b99b5-2937-42b5-e15e-478130d3a215",
        "colab": {
          "base_uri": "https://localhost:8080/"
        }
      },
      "source": [
        "#please provide your answer below this line.\n",
        "import numpy as np\n",
        "matrix1 = np.random.randint(0,10,(3,3))\n",
        "matrix2 = np.random.randint(0,10,(3,3))\n",
        " \n",
        "print(matrix1)\n",
        "print(matrix2)\n",
        " \n",
        "dot = np.dot(matrix1,matrix2)\n",
        "print(dot)"
      ],
      "execution_count": 1,
      "outputs": [
        {
          "output_type": "stream",
          "text": [
            "[[6 9 9]\n",
            " [0 1 4]\n",
            " [8 7 3]]\n",
            "[[5 0 8]\n",
            " [4 5 4]\n",
            " [1 0 9]]\n",
            "[[ 75  45 165]\n",
            " [  8   5  40]\n",
            " [ 71  35 119]]\n"
          ],
          "name": "stdout"
        }
      ]
    },
    {
      "cell_type": "markdown",
      "metadata": {
        "id": "9c9ZwiBxxf4t"
      },
      "source": [
        "2. Create a 3x3 matrix with elements [55,25,15], [30,44,2], [11,45,77] . Now find the determinant of the given matrix."
      ]
    },
    {
      "cell_type": "code",
      "metadata": {
        "id": "Anmr3C9KyNyy",
        "outputId": "4a7331b4-0dd1-488d-8f9d-3bdf1626a983",
        "colab": {
          "base_uri": "https://localhost:8080/"
        }
      },
      "source": [
        "#please provide your answer below this line.\n",
        "import numpy as np\n",
        "matrix = [[55,25,15],[30,44,2],[11,45,77]]\n",
        "print(matrix)\n",
        "det = np.linalg.det(matrix)\n",
        "print(det)"
      ],
      "execution_count": 4,
      "outputs": [
        {
          "output_type": "stream",
          "text": [
            "[[55, 25, 15], [30, 44, 2], [11, 45, 77]]\n",
            "137180.0000000001\n"
          ],
          "name": "stdout"
        }
      ]
    }
  ]
}