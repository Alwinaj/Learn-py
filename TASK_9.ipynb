{
  "nbformat": 4,
  "nbformat_minor": 0,
  "metadata": {
    "colab": {
      "name": "TASK 9.ipynb",
      "provenance": [],
      "include_colab_link": true
    },
    "kernelspec": {
      "name": "python3",
      "display_name": "Python 3"
    },
    "language_info": {
      "name": "python"
    }
  },
  "cells": [
    {
      "cell_type": "markdown",
      "metadata": {
        "id": "view-in-github",
        "colab_type": "text"
      },
      "source": [
        "<a href=\"https://colab.research.google.com/github/Alwinaj/Learn-py/blob/main/TASK_9.ipynb\" target=\"_parent\"><img src=\"https://colab.research.google.com/assets/colab-badge.svg\" alt=\"Open In Colab\"/></a>"
      ]
    },
    {
      "cell_type": "markdown",
      "metadata": {
        "id": "CBOQ3rFElEb0"
      },
      "source": [
        "1. Create an 4x4 array containing the values ranging from 0 - 15 (use arange function). Then ,\n",
        "  \n",
        "  a) split it equally along horizontal.\n",
        "\n",
        "  b) split it as 4 parts vertically.\n",
        "\n"
      ]
    },
    {
      "cell_type": "code",
      "metadata": {
        "id": "pKy4fjS_m3XD",
        "outputId": "81b51cc8-1f14-48c4-adbf-94f059a3e449",
        "colab": {
          "base_uri": "https://localhost:8080/"
        }
      },
      "source": [
        "#please provide your answer below this line\n",
        "import numpy as np\n",
        "array = np.arange(0,16)\n",
        "newarr = array.reshape(4,4)\n",
        "print(newarr)\n",
        "split = np.array_split(newarr,2)\n",
        "print(\"\\n Equally Splitting Array \\n\",split)\n",
        "print(\"\\n Splitting vertically: \\n\",np.hsplit(newarr,4))"
      ],
      "execution_count": 1,
      "outputs": [
        {
          "output_type": "stream",
          "text": [
            "[[ 0  1  2  3]\n",
            " [ 4  5  6  7]\n",
            " [ 8  9 10 11]\n",
            " [12 13 14 15]]\n",
            "\n",
            " Equally Splitting Array \n",
            " [array([[0, 1, 2, 3],\n",
            "       [4, 5, 6, 7]]), array([[ 8,  9, 10, 11],\n",
            "       [12, 13, 14, 15]])]\n",
            "\n",
            " Splitting vertically: \n",
            " [array([[ 0],\n",
            "       [ 4],\n",
            "       [ 8],\n",
            "       [12]]), array([[ 1],\n",
            "       [ 5],\n",
            "       [ 9],\n",
            "       [13]]), array([[ 2],\n",
            "       [ 6],\n",
            "       [10],\n",
            "       [14]]), array([[ 3],\n",
            "       [ 7],\n",
            "       [11],\n",
            "       [15]])]\n"
          ],
          "name": "stdout"
        }
      ]
    },
    {
      "cell_type": "markdown",
      "metadata": {
        "id": "ORtqWRAeoMvn"
      },
      "source": [
        "2. Create a 3x3 matrix using random module and then,\n",
        "\n",
        "  a) Find the ceil of the matrix.\n",
        "  \n",
        "  b) Find the floor of the matrix."
      ]
    },
    {
      "cell_type": "code",
      "metadata": {
        "id": "kt_CO_v9qpU-",
        "outputId": "7e13f707-e4dd-4116-e048-5399ed491a1b",
        "colab": {
          "base_uri": "https://localhost:8080/"
        }
      },
      "source": [
        "#please provide your answer below this line\n",
        "import numpy as np\n",
        " \n",
        "matrix = np.random.random_sample(size=(3,3))\n",
        "print(matrix)\n",
        " \n",
        "ceil = np.ceil(matrix)\n",
        "print(\"\\n Ceil of the Matrix:  \\n\",ceil)\n",
        " \n",
        "floor = np.floor(matrix)\n",
        "print(\"\\n Floor of the Matrix:  \\n\",floor)"
      ],
      "execution_count": 3,
      "outputs": [
        {
          "output_type": "stream",
          "text": [
            "[[0.02535868 0.05033509 0.12663144]\n",
            " [0.07165432 0.99403937 0.90913491]\n",
            " [0.26666966 0.6567611  0.28683957]]\n",
            "\n",
            " Ceil of the Matrix:  \n",
            " [[1. 1. 1.]\n",
            " [1. 1. 1.]\n",
            " [1. 1. 1.]]\n",
            "\n",
            " Floor of the Matrix:  \n",
            " [[0. 0. 0.]\n",
            " [0. 0. 0.]\n",
            " [0. 0. 0.]]\n"
          ],
          "name": "stdout"
        }
      ]
    },
    {
      "cell_type": "markdown",
      "metadata": {
        "id": "oln9t19WqzBb"
      },
      "source": [
        "3. Create a random 1x4 array and print the random array and its shape.\n",
        "    \n",
        "      (use the shape function for finding the shape & use the same random we created here for both the below operations.)\n",
        "\n",
        "  a) Squeeze the random array and print the squeezed array and its shape.\n",
        "  b) Expand the random array by one axis and print the expanded array and its shape."
      ]
    },
    {
      "cell_type": "code",
      "metadata": {
        "id": "cbGGwRo3vpVX",
        "outputId": "dea1c52e-88b5-438c-f600-f5f2b173f52b",
        "colab": {
          "base_uri": "https://localhost:8080/"
        }
      },
      "source": [
        "#please provide your answer below this line\n",
        "import numpy as np\n",
        " \n",
        "matrix = np.random.randint(0,10,size=(1,4,2))\n",
        "print(matrix)\n",
        " \n",
        "print(\"The shape of Matrix is: \",np.shape(matrix))\n",
        "sqz = np.squeeze(matrix)\n",
        "print(\"Squeezed: \",sqz)\n",
        "print(\"The shape of Matrix is: \",np.shape(sqz))\n",
        " \n",
        "matrix1 = np.expand_dims(matrix,3)\n",
        "print(\"Expanded array:  \\n\",matrix1)\n",
        "print(\"Shape is \",matrix1.shape)"
      ],
      "execution_count": 4,
      "outputs": [
        {
          "output_type": "stream",
          "text": [
            "[[[4 4]\n",
            "  [4 6]\n",
            "  [4 9]\n",
            "  [0 4]]]\n",
            "The shape of Matrix is:  (1, 4, 2)\n",
            "Squeezed:  [[4 4]\n",
            " [4 6]\n",
            " [4 9]\n",
            " [0 4]]\n",
            "The shape of Matrix is:  (4, 2)\n",
            "Expanded array:  \n",
            " [[[[4]\n",
            "   [4]]\n",
            "\n",
            "  [[4]\n",
            "   [6]]\n",
            "\n",
            "  [[4]\n",
            "   [9]]\n",
            "\n",
            "  [[0]\n",
            "   [4]]]]\n",
            "Shape is  (1, 4, 2, 1)\n"
          ],
          "name": "stdout"
        }
      ]
    }
  ]
}